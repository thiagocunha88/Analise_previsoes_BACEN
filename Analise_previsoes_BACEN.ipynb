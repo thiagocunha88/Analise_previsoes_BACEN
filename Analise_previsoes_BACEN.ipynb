{
 "cells": [
  {
   "cell_type": "markdown",
   "id": "74900b54",
   "metadata": {},
   "source": [
    "# Qual a acertividade das previsões publicadas pelo BACEN?"
   ]
  },
  {
   "cell_type": "markdown",
   "id": "0675c198",
   "metadata": {},
   "source": [
    "O Banco Central publica semanalmente um boletim contendo as estatísticas calculadas considerando as expectativas de mercado para os principais índices econômicos brasileiros, que contém valores para o ano corrente e os próximos, chamado Relatório Focus.\n",
    "\n",
    "Os valores apontados no relatório tem como origem diversos agentes econômicos que não fazem parte deste órgão, como instituições financeiras, empresas e universidades.\n",
    "\n",
    "Estas previsões são impactadas por fatores externos de baixa ou nenhuma previsibilidade como a pandemia de COVID-19, guerra na Ucrânia, resultados de eleições, entre outros, que causam impacto em seus números.\n",
    "\n",
    "Mesmo assim, é válido entender quão acertivas são estas expectativas de mercado, já que elas ajudam a nortear os planejamentos financeiros/estratégicos de diversas empresas e pessoas, nos mais variados ramos de atuação.\n",
    "\n"
   ]
  },
  {
   "cell_type": "markdown",
   "id": "6b1c30dc",
   "metadata": {},
   "source": [
    "# Fonte de dados"
   ]
  },
  {
   "cell_type": "markdown",
   "id": "0bf6fcae",
   "metadata": {},
   "source": [
    "## Sistema Expectativas de Mercado\n",
    "\n",
    "Para captura das previsões de mercado, o BACEN disponibiliza uma plataforma (https://olinda.bcb.gov.br/olinda/servico/Expectativas/versao/v1/aplicacao#!/recursos) que possibilita montar consultas a serem feitas em sua API apenas selecionando o peíodo desejado, e posteriormente os parâmetros.\n",
    "\n",
    "O endereço base da API é ``https ://olinda.bcb.gov.br/olinda/servico/Expectativas/versao/v1/odata/[codigo_recurso]?$format=json&[Outros Parâmetros]``, considerando os códigos de recursos abaixo.\n",
    "\n",
    "> ExpectativaMercadoMensais, ExpectativasMercadoTrimestrais, ExpectativasMercadoAnuais, ExpectativasMercadoInflacao12Meses, ExpectativasMercadoTop5Mensais, ExpectativasMercadoTop5Anuais, ExpectativasMercadoInstituicoes\n",
    "\n",
    "Então, basta usar o link obtido para efetuar a consulta e analisar os dados."
   ]
  },
  {
   "cell_type": "code",
   "execution_count": 1,
   "id": "ff7213ad",
   "metadata": {
    "scrolled": true
   },
   "outputs": [
    {
     "data": {
      "text/html": [
       "\n",
       "        <iframe\n",
       "            width=\"100%\"\n",
       "            height=\"250\"\n",
       "            src=\"https://olinda.bcb.gov.br/olinda/servico/Expectativas/versao/v1/aplicacao#!/recursos\"\n",
       "            frameborder=\"0\"\n",
       "            allowfullscreen\n",
       "        ></iframe>\n",
       "        "
      ],
      "text/plain": [
       "<IPython.lib.display.IFrame at 0x1ee3aca43c8>"
      ]
     },
     "execution_count": 1,
     "metadata": {},
     "output_type": "execute_result"
    }
   ],
   "source": [
    "from IPython.display import IFrame\n",
    "IFrame(\n",
    "    'https://olinda.bcb.gov.br/olinda/servico/Expectativas/versao/v1/aplicacao#!/recursos', \n",
    "    width='100%', \n",
    "    height=250\n",
    ")"
   ]
  },
  {
   "cell_type": "code",
   "execution_count": 2,
   "id": "8827d68f",
   "metadata": {},
   "outputs": [
    {
     "data": {
      "text/html": [
       "\n",
       "        <iframe\n",
       "            width=\"100%\"\n",
       "            height=\"250\"\n",
       "            src=\"https://olinda.bcb.gov.br/olinda/servico/Expectativas/versao/v1/aplicacao#!/recursos/ExpectativasMercadoAnuais#eyJmb3JtdWxhcmlvIjp7IiRmb3JtYXQiOiJqc29uIiwiJHRvcCI6MTAwfX0=\"\n",
       "            frameborder=\"0\"\n",
       "            allowfullscreen\n",
       "        ></iframe>\n",
       "        "
      ],
      "text/plain": [
       "<IPython.lib.display.IFrame at 0x1ee3aca4438>"
      ]
     },
     "execution_count": 2,
     "metadata": {},
     "output_type": "execute_result"
    }
   ],
   "source": [
    "IFrame(\n",
    "    'https://olinda.bcb.gov.br/olinda/servico/Expectativas/versao/v1/aplicacao#!' \\\n",
    "    '/recursos/ExpectativasMercadoAnuais#eyJmb3JtdWxhcmlvIjp7IiRmb3JtYXQiOiJqc29uIiwiJHRvcCI6MTAwfX0=',\n",
    "    width='100%',\n",
    "    height=250\n",
    ")"
   ]
  },
  {
   "cell_type": "markdown",
   "id": "58d14b5c",
   "metadata": {},
   "source": [
    "## Histórico dos índices\n",
    "\n",
    "Situação similar ocorre para os dados reais, onde existe uma API chamada BCData/SGS - Sistema Gerenciador de Séries Temporais, conforme exemplo a seguir.\n",
    "\n",
    "As consultas são feitas utilizando o endereço padrão ``http://api.bcb.gov.br/dados/serie/bcdata.sgs.{codigo_serie}/dados?formato=json&dataInicial={dataInicial}&dataFinal={dataFinal}``."
   ]
  },
  {
   "cell_type": "code",
   "execution_count": 3,
   "id": "00c13609",
   "metadata": {},
   "outputs": [
    {
     "data": {
      "text/html": [
       "\n",
       "        <iframe\n",
       "            width=\"100%\"\n",
       "            height=\"250\"\n",
       "            src=\"https://dadosabertos.bcb.gov.br/dataset/24363-indice-de-atividade-economica-do-banco-central---ibc-br/resource/7d5869ad-b479-47d3-b98f-b99d8d008d5b\"\n",
       "            frameborder=\"0\"\n",
       "            allowfullscreen\n",
       "        ></iframe>\n",
       "        "
      ],
      "text/plain": [
       "<IPython.lib.display.IFrame at 0x1ee3aca4400>"
      ]
     },
     "execution_count": 3,
     "metadata": {},
     "output_type": "execute_result"
    }
   ],
   "source": [
    "IFrame(\n",
    "    'https://dadosabertos.bcb.gov.br/dataset/24363-indice-de-atividade-economica-do-banco-central' \\\n",
    "    '---ibc-br/resource/7d5869ad-b479-47d3-b98f-b99d8d008d5b',\n",
    "    width='100%',\n",
    "    height=250\n",
    ")"
   ]
  },
  {
   "cell_type": "markdown",
   "id": "d48b95e9",
   "metadata": {},
   "source": [
    "Para encontrar o código da série deseja existem dois métodos, diretamente na plataforma do BACEN [``https://www3.bcb.gov.br/sgspub/localizarseries/localizarSeries.do?method=prepararTelaLocalizarSeries``](https://www3.bcb.gov.br/sgspub/localizarseries/localizarSeries.do?method=prepararTelaLocalizarSeries), ou utilizando a biblioteca `pybacen`.\n",
    "\n",
    "Na plataforma do BACEN, basta inserir o nome do indicador no campo \"Pesquisa textual\", avaliar qual indicador mais se adequa a necessidade e usar seu código na API."
   ]
  },
  {
   "cell_type": "markdown",
   "id": "af4c0331",
   "metadata": {},
   "source": [
    "<img src=\"img/pesquisa_indicador_sgs.png\" alt=\"Sistema Gerenciador de Séries Temporais\" style=\"width: 100%;\"/>"
   ]
  },
  {
   "cell_type": "markdown",
   "id": "33ed37f3",
   "metadata": {},
   "source": [
    "Na biblioteca ``pybacen`` a pesquisa se torna um pouco mais acertiva, porque é possível pesquisar partes do nome do indicador, bem como escolher a unidade, periodicidade e fonte.\n",
    "\n",
    "O resultado da pesquisa é um DataFrame do pandas, e nem sempre o nome do indicador (nm_serie) aparecerá completo. Para resolver isto, é possível tirar o limitador de caracteres exibidos no DataFrame (o padrão é 50) utilizando o método ``pd.options.display.max_colwidth = None``.\n",
    "\n",
    "Despois de realizar a pesquisa, é interessante voltar para o padrão, pra evitar DataFrames muito grandes e de difícil entendimento.\n",
    "\n",
    "Outro ponto a considerar é o aviso que é exibido a cada pesquisa, informando para confirmar a informação diretamente no site do BACEN."
   ]
  },
  {
   "cell_type": "code",
   "execution_count": 4,
   "id": "5f427ce3",
   "metadata": {},
   "outputs": [],
   "source": [
    "import pandas as pd\n",
    "pd.options.display.max_colwidth = None"
   ]
  },
  {
   "cell_type": "code",
   "execution_count": 5,
   "id": "884d01b4",
   "metadata": {},
   "outputs": [
    {
     "name": "stderr",
     "output_type": "stream",
     "text": [
      "c:\\python\\lib\\site-packages\\pybacen\\bacen\\time_series.py:116: UserWarning:\n",
      "\n",
      "Check the website: https://www3.bcb.gov.br/sgspub/localizarseries/localizarSeries.do?method=prepararTelaLocalizarSeries\n",
      "\n"
     ]
    },
    {
     "data": {
      "text/html": [
       "<div>\n",
       "<style scoped>\n",
       "    .dataframe tbody tr th:only-of-type {\n",
       "        vertical-align: middle;\n",
       "    }\n",
       "\n",
       "    .dataframe tbody tr th {\n",
       "        vertical-align: top;\n",
       "    }\n",
       "\n",
       "    .dataframe thead th {\n",
       "        text-align: right;\n",
       "    }\n",
       "</style>\n",
       "<table border=\"1\" class=\"dataframe\">\n",
       "  <thead>\n",
       "    <tr style=\"text-align: right;\">\n",
       "      <th></th>\n",
       "      <th>bacen_code</th>\n",
       "      <th>nm_serie</th>\n",
       "      <th>unit</th>\n",
       "      <th>periodicity</th>\n",
       "      <th>source</th>\n",
       "      <th>special</th>\n",
       "    </tr>\n",
       "  </thead>\n",
       "  <tbody>\n",
       "    <tr>\n",
       "      <th>11820</th>\n",
       "      <td>13522</td>\n",
       "      <td>Índice nacional de preços ao consumidor - amplo (IPCA) - em 12 meses</td>\n",
       "      <td>%</td>\n",
       "      <td>M</td>\n",
       "      <td>IBGE</td>\n",
       "      <td>N</td>\n",
       "    </tr>\n",
       "  </tbody>\n",
       "</table>\n",
       "</div>"
      ],
      "text/plain": [
       "       bacen_code  \\\n",
       "11820       13522   \n",
       "\n",
       "                                                                   nm_serie  \\\n",
       "11820  Índice nacional de preços ao consumidor - amplo (IPCA) - em 12 meses   \n",
       "\n",
       "      unit periodicity source special  \n",
       "11820    %           M   IBGE       N  "
      ]
     },
     "execution_count": 5,
     "metadata": {},
     "output_type": "execute_result"
    }
   ],
   "source": [
    "from pybacen.bacen import time_series\n",
    "\n",
    "time_series.read_bacen_code(search_text='%ipca%12 meses', period='M')\n"
   ]
  },
  {
   "cell_type": "code",
   "execution_count": 6,
   "id": "86c6e5f5",
   "metadata": {},
   "outputs": [
    {
     "name": "stderr",
     "output_type": "stream",
     "text": [
      "c:\\python\\lib\\site-packages\\pybacen\\bacen\\time_series.py:116: UserWarning:\n",
      "\n",
      "Check the website: https://www3.bcb.gov.br/sgspub/localizarseries/localizarSeries.do?method=prepararTelaLocalizarSeries\n",
      "\n"
     ]
    },
    {
     "data": {
      "text/html": [
       "<div>\n",
       "<style scoped>\n",
       "    .dataframe tbody tr th:only-of-type {\n",
       "        vertical-align: middle;\n",
       "    }\n",
       "\n",
       "    .dataframe tbody tr th {\n",
       "        vertical-align: top;\n",
       "    }\n",
       "\n",
       "    .dataframe thead th {\n",
       "        text-align: right;\n",
       "    }\n",
       "</style>\n",
       "<table border=\"1\" class=\"dataframe\">\n",
       "  <thead>\n",
       "    <tr style=\"text-align: right;\">\n",
       "      <th></th>\n",
       "      <th>bacen_code</th>\n",
       "      <th>nm_serie</th>\n",
       "      <th>unit</th>\n",
       "      <th>periodicity</th>\n",
       "      <th>source</th>\n",
       "      <th>special</th>\n",
       "    </tr>\n",
       "  </thead>\n",
       "  <tbody>\n",
       "    <tr>\n",
       "      <th>405</th>\n",
       "      <td>432</td>\n",
       "      <td>Taxa de juros - Meta Selic definida pelo Copom</td>\n",
       "      <td>% a.a.</td>\n",
       "      <td>D</td>\n",
       "      <td>Copom</td>\n",
       "      <td>N</td>\n",
       "    </tr>\n",
       "  </tbody>\n",
       "</table>\n",
       "</div>"
      ],
      "text/plain": [
       "     bacen_code                                        nm_serie    unit  \\\n",
       "405         432  Taxa de juros - Meta Selic definida pelo Copom  % a.a.   \n",
       "\n",
       "    periodicity source special  \n",
       "405           D  Copom       N  "
      ]
     },
     "execution_count": 6,
     "metadata": {},
     "output_type": "execute_result"
    }
   ],
   "source": [
    "time_series.read_bacen_code(search_text='%meta%selic%')"
   ]
  },
  {
   "cell_type": "code",
   "execution_count": 7,
   "id": "fc481325",
   "metadata": {},
   "outputs": [],
   "source": [
    "pd.options.display.max_colwidth = 50"
   ]
  },
  {
   "cell_type": "markdown",
   "id": "8207830c",
   "metadata": {},
   "source": [
    "# Captura dos dados e construção das tabelas/DataFrames"
   ]
  },
  {
   "cell_type": "markdown",
   "id": "62b3efbe",
   "metadata": {},
   "source": [
    "Para elaborar"
   ]
  }
 ],
 "metadata": {
  "kernelspec": {
   "display_name": "Python 3",
   "language": "python",
   "name": "python3"
  },
  "language_info": {
   "codemirror_mode": {
    "name": "ipython",
    "version": 3
   },
   "file_extension": ".py",
   "mimetype": "text/x-python",
   "name": "python",
   "nbconvert_exporter": "python",
   "pygments_lexer": "ipython3",
   "version": "3.6.6"
  }
 },
 "nbformat": 4,
 "nbformat_minor": 5
}
