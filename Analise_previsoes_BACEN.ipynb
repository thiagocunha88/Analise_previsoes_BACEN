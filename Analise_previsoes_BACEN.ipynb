{
 "cells": [
  {
   "cell_type": "markdown",
   "id": "74900b54",
   "metadata": {},
   "source": [
    "# Mensurar a acertividade das previsões publicadas pelo BACEN"
   ]
  },
  {
   "cell_type": "markdown",
   "id": "0675c198",
   "metadata": {},
   "source": [
    "O Banco Central publica semanalmente um boletim contendo as estatísticas calculadas considerando as expectativas de mercado para os principais índices econômicos brasileiros, que contém valores para o ano corrente e os próximos, chamado Relatório Focus.\n",
    "\n",
    "Os valores apontados no relatório tem como origem diversos agentes econômicos que não fazem parte deste órgão, como instituições financeiras, empresas e universidades.\n",
    "\n",
    "Estas previsões são impactadas por fatores externos de baixa ou nenhuma previsibilidade como a pandemia de COVID-19, guerra na Ucrânia, resultados de eleições, entre outros, que causam impacto em seus números.\n",
    "\n",
    "Mesmo assim, é válido entender quão acertivas são estas expectativas de mercado, já que elas ajudam a nortear os planejamentos financeiros/estratégicos de diversas empresas e pessoas, nos mais variados ramos de atuação.\n",
    "\n"
   ]
  },
  {
   "cell_type": "markdown",
   "id": "6b1c30dc",
   "metadata": {},
   "source": [
    "# Fonte de dados"
   ]
  },
  {
   "cell_type": "markdown",
   "id": "0bf6fcae",
   "metadata": {},
   "source": [
    "## Sistema Expectativas de Mercado\n",
    "\n",
    "Para captura das previsões de mercado, o BACEN disponibiliza uma plataforma (https://olinda.bcb.gov.br/olinda/servico/Expectativas/versao/v1/aplicacao#!/recursos) que possibilita montar consultas a serem feitas em sua API apenas selecionando o peíodo desejado, e posteriormente os parâmetros.\n",
    "\n",
    "Então, basta usar o link obtido para efetuar a consulta e analisar os dados."
   ]
  },
  {
   "cell_type": "code",
   "execution_count": 1,
   "id": "ff7213ad",
   "metadata": {},
   "outputs": [
    {
     "data": {
      "text/html": [
       "\n",
       "        <iframe\n",
       "            width=\"100%\"\n",
       "            height=\"400\"\n",
       "            src=\"https://olinda.bcb.gov.br/olinda/servico/Expectativas/versao/v1/aplicacao#!/recursos\"\n",
       "            frameborder=\"0\"\n",
       "            allowfullscreen\n",
       "        ></iframe>\n",
       "        "
      ],
      "text/plain": [
       "<IPython.lib.display.IFrame at 0x21c138e1358>"
      ]
     },
     "execution_count": 1,
     "metadata": {},
     "output_type": "execute_result"
    }
   ],
   "source": [
    "from IPython.display import IFrame\n",
    "IFrame(\n",
    "    'https://olinda.bcb.gov.br/olinda/servico/Expectativas/versao/v1/aplicacao#!/recursos', \n",
    "    width='100%', \n",
    "    height=400\n",
    ")"
   ]
  },
  {
   "cell_type": "code",
   "execution_count": 2,
   "id": "8827d68f",
   "metadata": {},
   "outputs": [
    {
     "data": {
      "text/html": [
       "\n",
       "        <iframe\n",
       "            width=\"100%\"\n",
       "            height=\"400\"\n",
       "            src=\"https://olinda.bcb.gov.br/olinda/servico/Expectativas/versao/v1/aplicacao#!/recursos/ExpectativasMercadoAnuais#eyJmb3JtdWxhcmlvIjp7IiRmb3JtYXQiOiJqc29uIiwiJHRvcCI6MTAwfX0=\"\n",
       "            frameborder=\"0\"\n",
       "            allowfullscreen\n",
       "        ></iframe>\n",
       "        "
      ],
      "text/plain": [
       "<IPython.lib.display.IFrame at 0x21c1391d630>"
      ]
     },
     "execution_count": 2,
     "metadata": {},
     "output_type": "execute_result"
    }
   ],
   "source": [
    "IFrame(\n",
    "    'https://olinda.bcb.gov.br/olinda/servico/Expectativas/versao/v1/aplicacao#!' \\\n",
    "    '/recursos/ExpectativasMercadoAnuais#eyJmb3JtdWxhcmlvIjp7IiRmb3JtYXQiOiJqc29uIiwiJHRvcCI6MTAwfX0=',\n",
    "    width='100%',\n",
    "    height=400\n",
    ")"
   ]
  },
  {
   "cell_type": "markdown",
   "id": "58d14b5c",
   "metadata": {},
   "source": [
    "## Histórico dos índices\n",
    "\n",
    "Situação similar ocorre para os dados reais, onde existe uma API chamada BCData/SGS - Sistema Gerenciador de Séries Temporais, conforme exemplo a seguir.\n",
    "\n",
    "As consultas são feitas utilizando o endereço padrão ``http://api.bcb.gov.br/dados/serie/bcdata.sgs.{codigo_serie}/dados?formato=json&dataInicial={dataInicial}&dataFinal={dataFinal}``.\n",
    "\n",
    "Para encontrar o código da série deseja existem dois métodos, diretamente na plataforma do BACEN (``https://www3.bcb.gov.br/sgspub/localizarseries/localizarSeries.do?method=prepararTelaLocalizarSeries``), ou utilizando a biblioteca `pybacen`."
   ]
  },
  {
   "cell_type": "code",
   "execution_count": 3,
   "id": "00c13609",
   "metadata": {},
   "outputs": [
    {
     "data": {
      "text/html": [
       "\n",
       "        <iframe\n",
       "            width=\"100%\"\n",
       "            height=\"400\"\n",
       "            src=\"https://dadosabertos.bcb.gov.br/dataset/24363-indice-de-atividade-economica-do-banco-central---ibc-br\"\n",
       "            frameborder=\"0\"\n",
       "            allowfullscreen\n",
       "        ></iframe>\n",
       "        "
      ],
      "text/plain": [
       "<IPython.lib.display.IFrame at 0x21c1391d048>"
      ]
     },
     "execution_count": 3,
     "metadata": {},
     "output_type": "execute_result"
    }
   ],
   "source": [
    "IFrame(\n",
    "    'https://dadosabertos.bcb.gov.br/dataset/24363-indice-de-atividade-economica-do-banco-central---ibc-br',\n",
    "    width='100%',\n",
    "    height=400\n",
    ")"
   ]
  },
  {
   "cell_type": "code",
   "execution_count": 4,
   "id": "6bb823cb",
   "metadata": {},
   "outputs": [
    {
     "data": {
      "text/html": [
       "\n",
       "        <iframe\n",
       "            width=\"100%\"\n",
       "            height=\"400\"\n",
       "            src=\"https://www3.bcb.gov.br/sgspub/localizarseries/localizarSeries.do?method=prepararTelaLocalizarSeries\"\n",
       "            frameborder=\"0\"\n",
       "            allowfullscreen\n",
       "        ></iframe>\n",
       "        "
      ],
      "text/plain": [
       "<IPython.lib.display.IFrame at 0x21c1391d668>"
      ]
     },
     "execution_count": 4,
     "metadata": {},
     "output_type": "execute_result"
    }
   ],
   "source": [
    "\n",
    "    'https://www3.bcb.gov.br/sgspub/localizarseries/localizarSeries.do?method=prepararTelaLocalizarSeries',\n"
   ]
  },
  {
   "cell_type": "code",
   "execution_count": null,
   "id": "47799f53",
   "metadata": {},
   "outputs": [],
   "source": []
  }
 ],
 "metadata": {
  "kernelspec": {
   "display_name": "Python 3",
   "language": "python",
   "name": "python3"
  },
  "language_info": {
   "codemirror_mode": {
    "name": "ipython",
    "version": 3
   },
   "file_extension": ".py",
   "mimetype": "text/x-python",
   "name": "python",
   "nbconvert_exporter": "python",
   "pygments_lexer": "ipython3",
   "version": "3.6.6"
  }
 },
 "nbformat": 4,
 "nbformat_minor": 5
}
