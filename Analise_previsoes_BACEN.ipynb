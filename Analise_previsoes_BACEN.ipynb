{
 "cells": [
  {
   "cell_type": "markdown",
   "id": "74900b54",
   "metadata": {},
   "source": [
    "# Qual a acertividade das previsões publicadas pelo BACEN?"
   ]
  },
  {
   "cell_type": "markdown",
   "id": "0675c198",
   "metadata": {},
   "source": [
    "O Banco Central publica semanalmente um boletim contendo as estatísticas calculadas considerando as expectativas de mercado para os principais índices econômicos brasileiros, que contém valores para o ano corrente e os próximos, chamado Relatório Focus.\n",
    "\n",
    "Os valores apontados no relatório tem como origem diversos agentes econômicos que não fazem parte deste órgão, como instituições financeiras, empresas e universidades.\n",
    "\n",
    "Estas previsões são impactadas por fatores externos de baixa ou nenhuma previsibilidade como a pandemia de COVID-19, guerra na Ucrânia, resultados de eleições, entre outros, que causam variações em seus números.\n",
    "\n",
    "Mesmo assim, é válido entender quão acertivas são estas expectativas de mercado, já que elas ajudam a nortear os planejamentos financeiros/estratégicos de diversas empresas e pessoas, nos mais variados ramos de atuação.\n",
    "\n"
   ]
  },
  {
   "cell_type": "code",
   "execution_count": 1,
   "id": "61d1b240",
   "metadata": {},
   "outputs": [],
   "source": [
    "# Bibliotecas a serem utilizadas\n",
    "import pandas as pd\n",
    "from datetime import datetime as dt\n",
    "from IPython.display import IFrame\n",
    "from pybacen.bacen import time_series"
   ]
  },
  {
   "cell_type": "markdown",
   "id": "6b1c30dc",
   "metadata": {},
   "source": [
    "# Fonte de dados"
   ]
  },
  {
   "cell_type": "markdown",
   "id": "0bf6fcae",
   "metadata": {},
   "source": [
    "## Sistema Expectativas de Mercado\n",
    "\n",
    "Para captura das previsões de mercado, o BACEN disponibiliza uma plataforma (https://olinda.bcb.gov.br/olinda/servico/Expectativas/versao/v1/aplicacao#!/recursos) que possibilita montar consultas a serem feitas em sua API apenas selecionando o peíodo desejado, e posteriormente os parâmetros.\n",
    "\n",
    "O endereço base da API é ``https ://olinda.bcb.gov.br/olinda/servico/Expectativas/versao/v1/odata/[codigo_recurso]?$format=json&[Outros Parâmetros]``, considerando os códigos de recursos abaixo.\n",
    "\n",
    "> ExpectativaMercadoMensais, ExpectativasMercadoTrimestrais, ExpectativasMercadoAnuais, ExpectativasMercadoInflacao12Meses, ExpectativasMercadoTop5Mensais, ExpectativasMercadoTop5Anuais, ExpectativasMercadoInstituicoes\n",
    "\n",
    "Então, basta usar o link obtido para efetuar a consulta e analisar os dados."
   ]
  },
  {
   "cell_type": "code",
   "execution_count": 2,
   "id": "ff7213ad",
   "metadata": {
    "scrolled": true
   },
   "outputs": [
    {
     "data": {
      "text/html": [
       "\n",
       "        <iframe\n",
       "            width=\"100%\"\n",
       "            height=\"250\"\n",
       "            src=\"https://olinda.bcb.gov.br/olinda/servico/Expectativas/versao/v1/aplicacao#!/recursos\"\n",
       "            frameborder=\"0\"\n",
       "            allowfullscreen\n",
       "        ></iframe>\n",
       "        "
      ],
      "text/plain": [
       "<IPython.lib.display.IFrame at 0x234aa850208>"
      ]
     },
     "execution_count": 2,
     "metadata": {},
     "output_type": "execute_result"
    }
   ],
   "source": [
    "\n",
    "IFrame(\n",
    "    'https://olinda.bcb.gov.br/olinda/servico/Expectativas/versao/v1/aplicacao#!/recursos', \n",
    "    width='100%', \n",
    "    height=250\n",
    ")"
   ]
  },
  {
   "cell_type": "code",
   "execution_count": 3,
   "id": "8827d68f",
   "metadata": {},
   "outputs": [
    {
     "data": {
      "text/html": [
       "\n",
       "        <iframe\n",
       "            width=\"100%\"\n",
       "            height=\"250\"\n",
       "            src=\"https://olinda.bcb.gov.br/olinda/servico/Expectativas/versao/v1/aplicacao#!/recursos/ExpectativasMercadoAnuais#eyJmb3JtdWxhcmlvIjp7IiRmb3JtYXQiOiJqc29uIiwiJHRvcCI6MTAwfX0=\"\n",
       "            frameborder=\"0\"\n",
       "            allowfullscreen\n",
       "        ></iframe>\n",
       "        "
      ],
      "text/plain": [
       "<IPython.lib.display.IFrame at 0x234aab20048>"
      ]
     },
     "execution_count": 3,
     "metadata": {},
     "output_type": "execute_result"
    }
   ],
   "source": [
    "IFrame(\n",
    "    'https://olinda.bcb.gov.br/olinda/servico/Expectativas/versao/v1/aplicacao#!' \\\n",
    "    '/recursos/ExpectativasMercadoAnuais#eyJmb3JtdWxhcmlvIjp7IiRmb3JtYXQiOiJqc29uIiwiJHRvcCI6MTAwfX0=',\n",
    "    width='100%',\n",
    "    height=250\n",
    ")"
   ]
  },
  {
   "cell_type": "markdown",
   "id": "58d14b5c",
   "metadata": {},
   "source": [
    "## Histórico dos índices\n",
    "\n",
    "Situação similar ocorre para os dados reais, onde existe uma API chamada BCData/SGS - Sistema Gerenciador de Séries Temporais, conforme exemplo a seguir.\n",
    "\n",
    "As consultas são feitas utilizando o endereço padrão ``http://api.bcb.gov.br/dados/serie/bcdata.sgs.{codigo_serie}/dados?formato=json&dataInicial={dataInicial}&dataFinal={dataFinal}``."
   ]
  },
  {
   "cell_type": "code",
   "execution_count": 4,
   "id": "00c13609",
   "metadata": {},
   "outputs": [
    {
     "data": {
      "text/html": [
       "\n",
       "        <iframe\n",
       "            width=\"100%\"\n",
       "            height=\"250\"\n",
       "            src=\"https://dadosabertos.bcb.gov.br/dataset/24363-indice-de-atividade-economica-do-banco-central---ibc-br/resource/7d5869ad-b479-47d3-b98f-b99d8d008d5b\"\n",
       "            frameborder=\"0\"\n",
       "            allowfullscreen\n",
       "        ></iframe>\n",
       "        "
      ],
      "text/plain": [
       "<IPython.lib.display.IFrame at 0x234aab202e8>"
      ]
     },
     "execution_count": 4,
     "metadata": {},
     "output_type": "execute_result"
    }
   ],
   "source": [
    "IFrame(\n",
    "    'https://dadosabertos.bcb.gov.br/dataset/24363-indice-de-atividade-economica-do-banco-central' \\\n",
    "    '---ibc-br/resource/7d5869ad-b479-47d3-b98f-b99d8d008d5b',\n",
    "    width='100%',\n",
    "    height=250\n",
    ")"
   ]
  },
  {
   "cell_type": "markdown",
   "id": "d48b95e9",
   "metadata": {},
   "source": [
    "Para encontrar o código da série deseja existem dois métodos, diretamente na plataforma do BACEN [``https://www3.bcb.gov.br/sgspub/localizarseries/localizarSeries.do?method=prepararTelaLocalizarSeries``](https://www3.bcb.gov.br/sgspub/localizarseries/localizarSeries.do?method=prepararTelaLocalizarSeries), ou utilizando a biblioteca `pybacen`.\n",
    "\n",
    "Na plataforma do BACEN, basta inserir o nome do indicador no campo \"Pesquisa textual\", avaliar qual indicador mais se adequa a necessidade e usar seu código na API."
   ]
  },
  {
   "cell_type": "markdown",
   "id": "63ded6b0",
   "metadata": {},
   "source": [
    "<img src=\"img/pesquisa_indicador_sgs.png\" alt=\"Sistema Gerenciador de Séries Temporais\" style=\"width: 100%;\"/>"
   ]
  },
  {
   "cell_type": "markdown",
   "id": "501c5e0d",
   "metadata": {},
   "source": [
    "Na biblioteca ``pybacen`` a pesquisa se torna um pouco mais acertiva, porque é possível pesquisar partes do nome do indicador, bem como escolher a unidade, periodicidade e fonte.\n",
    "\n",
    "O resultado da pesquisa é um DataFrame do pandas, e nem sempre o nome do indicador (nm_serie) aparecerá completo. Para resolver isto, é possível tirar o limitador de caracteres exibidos no DataFrame (o padrão é 50) utilizando o método ``pd.options.display.max_colwidth = None``.\n",
    "\n",
    "Despois de realizar a pesquisa, é interessante voltar para o padrão, pra evitar DataFrames muito grandes e de difícil entendimento.\n",
    "\n",
    "Outro ponto a considerar é o aviso que é exibido a cada pesquisa, informando para confirmar a informação diretamente no site do BACEN."
   ]
  },
  {
   "cell_type": "code",
   "execution_count": 5,
   "id": "3d4b91b1",
   "metadata": {},
   "outputs": [],
   "source": [
    "pd.options.display.max_colwidth = None"
   ]
  },
  {
   "cell_type": "code",
   "execution_count": 6,
   "id": "466679c2",
   "metadata": {},
   "outputs": [
    {
     "name": "stderr",
     "output_type": "stream",
     "text": [
      "c:\\python\\lib\\site-packages\\pybacen\\bacen\\time_series.py:116: UserWarning:\n",
      "\n",
      "Check the website: https://www3.bcb.gov.br/sgspub/localizarseries/localizarSeries.do?method=prepararTelaLocalizarSeries\n",
      "\n"
     ]
    },
    {
     "data": {
      "text/html": [
       "<div>\n",
       "<style scoped>\n",
       "    .dataframe tbody tr th:only-of-type {\n",
       "        vertical-align: middle;\n",
       "    }\n",
       "\n",
       "    .dataframe tbody tr th {\n",
       "        vertical-align: top;\n",
       "    }\n",
       "\n",
       "    .dataframe thead th {\n",
       "        text-align: right;\n",
       "    }\n",
       "</style>\n",
       "<table border=\"1\" class=\"dataframe\">\n",
       "  <thead>\n",
       "    <tr style=\"text-align: right;\">\n",
       "      <th></th>\n",
       "      <th>bacen_code</th>\n",
       "      <th>nm_serie</th>\n",
       "      <th>unit</th>\n",
       "      <th>periodicity</th>\n",
       "      <th>source</th>\n",
       "      <th>special</th>\n",
       "    </tr>\n",
       "  </thead>\n",
       "  <tbody>\n",
       "    <tr>\n",
       "      <th>11820</th>\n",
       "      <td>13522</td>\n",
       "      <td>Índice nacional de preços ao consumidor - amplo (IPCA) - em 12 meses</td>\n",
       "      <td>%</td>\n",
       "      <td>M</td>\n",
       "      <td>IBGE</td>\n",
       "      <td>N</td>\n",
       "    </tr>\n",
       "  </tbody>\n",
       "</table>\n",
       "</div>"
      ],
      "text/plain": [
       "       bacen_code  \\\n",
       "11820       13522   \n",
       "\n",
       "                                                                   nm_serie  \\\n",
       "11820  Índice nacional de preços ao consumidor - amplo (IPCA) - em 12 meses   \n",
       "\n",
       "      unit periodicity source special  \n",
       "11820    %           M   IBGE       N  "
      ]
     },
     "execution_count": 6,
     "metadata": {},
     "output_type": "execute_result"
    }
   ],
   "source": [
    "time_series.read_bacen_code(search_text='%ipca%12 meses', period='M')"
   ]
  },
  {
   "cell_type": "code",
   "execution_count": 7,
   "id": "bdf0d2f0",
   "metadata": {},
   "outputs": [
    {
     "name": "stderr",
     "output_type": "stream",
     "text": [
      "c:\\python\\lib\\site-packages\\pybacen\\bacen\\time_series.py:116: UserWarning:\n",
      "\n",
      "Check the website: https://www3.bcb.gov.br/sgspub/localizarseries/localizarSeries.do?method=prepararTelaLocalizarSeries\n",
      "\n"
     ]
    },
    {
     "data": {
      "text/html": [
       "<div>\n",
       "<style scoped>\n",
       "    .dataframe tbody tr th:only-of-type {\n",
       "        vertical-align: middle;\n",
       "    }\n",
       "\n",
       "    .dataframe tbody tr th {\n",
       "        vertical-align: top;\n",
       "    }\n",
       "\n",
       "    .dataframe thead th {\n",
       "        text-align: right;\n",
       "    }\n",
       "</style>\n",
       "<table border=\"1\" class=\"dataframe\">\n",
       "  <thead>\n",
       "    <tr style=\"text-align: right;\">\n",
       "      <th></th>\n",
       "      <th>bacen_code</th>\n",
       "      <th>nm_serie</th>\n",
       "      <th>unit</th>\n",
       "      <th>periodicity</th>\n",
       "      <th>source</th>\n",
       "      <th>special</th>\n",
       "    </tr>\n",
       "  </thead>\n",
       "  <tbody>\n",
       "    <tr>\n",
       "      <th>405</th>\n",
       "      <td>432</td>\n",
       "      <td>Taxa de juros - Meta Selic definida pelo Copom</td>\n",
       "      <td>% a.a.</td>\n",
       "      <td>D</td>\n",
       "      <td>Copom</td>\n",
       "      <td>N</td>\n",
       "    </tr>\n",
       "  </tbody>\n",
       "</table>\n",
       "</div>"
      ],
      "text/plain": [
       "     bacen_code                                        nm_serie    unit  \\\n",
       "405         432  Taxa de juros - Meta Selic definida pelo Copom  % a.a.   \n",
       "\n",
       "    periodicity source special  \n",
       "405           D  Copom       N  "
      ]
     },
     "execution_count": 7,
     "metadata": {},
     "output_type": "execute_result"
    }
   ],
   "source": [
    "time_series.read_bacen_code(search_text='%meta%selic%')"
   ]
  },
  {
   "cell_type": "code",
   "execution_count": 8,
   "id": "6025cb88",
   "metadata": {},
   "outputs": [],
   "source": [
    "pd.options.display.max_colwidth = 50"
   ]
  },
  {
   "cell_type": "markdown",
   "id": "4a9964a8",
   "metadata": {},
   "source": [
    "# Captura dos dados e construção das tabelas/DataFrames"
   ]
  },
  {
   "cell_type": "markdown",
   "id": "8896c14d",
   "metadata": {},
   "source": [
    "Para iniciar a análise da acertividade das previsões é necessário estabelecer quais indicadores e períodos serão utilizados.\n",
    "\n",
    "Num primeiro momento, serão analisados dois indicadores, o IPCA (inflação) e a Selic (juros), comparando o valor real de fechamento de cada ano, com sua previsão publicada no início deste ano e do anterior, considerando os últimos 20 anos (2001 a 2021, já que 2022 ainda não está fechado no momento da análise).\n",
    "\n",
    "Por exemplo:\n",
    "\n",
    "> IPCA dez/2021, comparado com a previsão deste publicada em jan/2021 e jan/2020\n"
   ]
  },
  {
   "cell_type": "markdown",
   "id": "41e36f03",
   "metadata": {},
   "source": [
    "## Expectativas de mercado"
   ]
  },
  {
   "cell_type": "markdown",
   "id": "3310267e",
   "metadata": {},
   "source": [
    "No caso das Expectativas de Mercado, o resultado da consulta é a relação de todos os indicadores de acordo com a quantidade de linhas determinadas e os parâmetros estabelecidos."
   ]
  },
  {
   "cell_type": "code",
   "execution_count": 9,
   "id": "9019a33e",
   "metadata": {},
   "outputs": [],
   "source": [
    "# Definindo os indicadores\n",
    "\n",
    "indices = ['IPCA', 'Selic']\n",
    "\n",
    "# Definindo os parâmetros e efetuando a consulta\n",
    "codigo = 'ExpectativasMercadoAnuais'\n",
    "link_api =  \"https://olinda.bcb.gov.br/olinda/servico/Expectativas/versao/v1/odata\" \\\n",
    "            f\"/{codigo}?$format=json&$select=Indicador,Data,DataReferencia,Media,Mediana,\" \\\n",
    "            \"DesvioPadrao,Minimo,Maximo,numeroRespondentes,baseCalculo\"\n",
    "\n",
    "\n",
    "# Capturando os dados e transformando\n",
    "\n",
    "consulta_api = pd.read_json(link_api)\n",
    "previsoes_indicadores = pd.json_normalize(consulta_api.value)\n",
    "previsoes_indicadores.Data = [dt.strptime(previsoes_indicadores.Data[i], '%Y-%m-%d') \n",
    "                              for i in range(len(previsoes_indicadores.Data))]\n",
    "previsoes_indicadores = previsoes_indicadores.astype({'DataReferencia': int})\n",
    "\n",
    "\n",
    "# Aplicando filtros e criando o df a ser utilizado\n",
    "\n",
    "filtro =    (previsoes_indicadores.Indicador.isin(indices)) & \\\n",
    "            (previsoes_indicadores.baseCalculo == 0) & \\\n",
    "            (previsoes_indicadores.Data >= '1998-01-01')\n",
    "previsoes_indicadores_anuais = previsoes_indicadores[filtro]\n",
    "\n",
    "\n",
    "# Selecionando apenas o primeiro dado divulgado em cada ano\n",
    "\n",
    "ano_teste = previsoes_indicadores_anuais.Data.min().year\n",
    "ultimo_ano = previsoes_indicadores_anuais.Data.max().year\n",
    "lista_datas = []\n",
    "\n",
    "while ano_teste <= ultimo_ano: \n",
    "    filtro_jan =    (previsoes_indicadores_anuais.Data >= f'{ano_teste}-01-01') & \\\n",
    "                    (previsoes_indicadores_anuais.Data <= f'{ano_teste}-01-31')\n",
    "    menor_data_jan = previsoes_indicadores_anuais.Data[filtro_jan].min()\n",
    "    lista_datas.append(menor_data_jan)\n",
    " \n",
    "    ano_teste += 1\n",
    "    \n",
    "previsoes_indicadores_anuais = previsoes_indicadores_anuais[previsoes_indicadores_anuais.Data.isin(lista_datas)]\n",
    "previsoes_indicadores_anuais.reset_index(drop=True, inplace=True)\n",
    "\n",
    "\n",
    "# Criando a coluna com a informação da referência divulgada\n",
    "\n",
    "def TestaAno():\n",
    "    lista = []\n",
    "    for i in range(len(previsoes_indicadores_anuais.Data)):\n",
    "        if previsoes_indicadores_anuais.Data[i].year == previsoes_indicadores_anuais.DataReferencia[i]:\n",
    "            lista.append('Inicio ano')\n",
    "        elif previsoes_indicadores_anuais.Data[i].year == previsoes_indicadores_anuais.DataReferencia[i] - 1:\n",
    "            lista.append('Ano anterior')\n",
    "        else:\n",
    "            lista.append('Fora do range')\n",
    "    return lista\n",
    "\n",
    "previsoes_indicadores_anuais['InfoReferencia'] = TestaAno()\n",
    "\n",
    "\n",
    "# Pivoteando as tabelas e unificando\n",
    "\n",
    "ipca_tabela_previsao_final = pd.pivot_table(previsoes_indicadores_anuais.query('Indicador == \"IPCA\"'), \n",
    "                                            values= 'Mediana', \n",
    "                                            index= 'DataReferencia',\n",
    "                                            columns= 'InfoReferencia').reset_index()\n",
    "\n",
    "ipca_tabela_previsao_final = ipca_tabela_previsao_final[['DataReferencia', 'Ano anterior', 'Inicio ano']]\n",
    "ipca_tabela_previsao_final.columns = ['DataReferencia', 'IPCA ano anterior', 'IPCA inicio do ano']\n",
    "\n",
    "selic_tabela_previsao_final = pd.pivot_table(previsoes_indicadores_anuais.query('Indicador == \"Selic\"'), \n",
    "                                             values= 'Mediana', \n",
    "                                             index= 'DataReferencia',\n",
    "                                             columns= 'InfoReferencia').reset_index()\n",
    "\n",
    "selic_tabela_previsao_final = selic_tabela_previsao_final[['DataReferencia', 'Ano anterior', 'Inicio ano']]\n",
    "selic_tabela_previsao_final.columns = ['DataReferencia', 'Selic ano anterior', 'Selic inicio do ano']\n",
    "tabela_expectativas = pd.merge(ipca_tabela_previsao_final, selic_tabela_previsao_final, how= 'left', on= 'DataReferencia')"
   ]
  },
  {
   "cell_type": "code",
   "execution_count": 10,
   "id": "78d5b68b",
   "metadata": {},
   "outputs": [
    {
     "data": {
      "text/html": [
       "<div>\n",
       "<style scoped>\n",
       "    .dataframe tbody tr th:only-of-type {\n",
       "        vertical-align: middle;\n",
       "    }\n",
       "\n",
       "    .dataframe tbody tr th {\n",
       "        vertical-align: top;\n",
       "    }\n",
       "\n",
       "    .dataframe thead th {\n",
       "        text-align: right;\n",
       "    }\n",
       "</style>\n",
       "<table border=\"1\" class=\"dataframe\">\n",
       "  <thead>\n",
       "    <tr style=\"text-align: right;\">\n",
       "      <th></th>\n",
       "      <th>DataReferencia</th>\n",
       "      <th>IPCA ano anterior</th>\n",
       "      <th>IPCA inicio do ano</th>\n",
       "      <th>Selic ano anterior</th>\n",
       "      <th>Selic inicio do ano</th>\n",
       "    </tr>\n",
       "  </thead>\n",
       "  <tbody>\n",
       "    <tr>\n",
       "      <th>11</th>\n",
       "      <td>2011</td>\n",
       "      <td>4.5000</td>\n",
       "      <td>5.33</td>\n",
       "      <td>10.88</td>\n",
       "      <td>12.25</td>\n",
       "    </tr>\n",
       "    <tr>\n",
       "      <th>7</th>\n",
       "      <td>2007</td>\n",
       "      <td>4.5000</td>\n",
       "      <td>4.00</td>\n",
       "      <td>13.50</td>\n",
       "      <td>11.75</td>\n",
       "    </tr>\n",
       "    <tr>\n",
       "      <th>23</th>\n",
       "      <td>2023</td>\n",
       "      <td>3.3802</td>\n",
       "      <td>NaN</td>\n",
       "      <td>8.00</td>\n",
       "      <td>NaN</td>\n",
       "    </tr>\n",
       "    <tr>\n",
       "      <th>13</th>\n",
       "      <td>2013</td>\n",
       "      <td>5.0000</td>\n",
       "      <td>5.49</td>\n",
       "      <td>10.25</td>\n",
       "      <td>7.25</td>\n",
       "    </tr>\n",
       "    <tr>\n",
       "      <th>25</th>\n",
       "      <td>2025</td>\n",
       "      <td>NaN</td>\n",
       "      <td>NaN</td>\n",
       "      <td>NaN</td>\n",
       "      <td>NaN</td>\n",
       "    </tr>\n",
       "    <tr>\n",
       "      <th>20</th>\n",
       "      <td>2020</td>\n",
       "      <td>4.0000</td>\n",
       "      <td>3.60</td>\n",
       "      <td>8.00</td>\n",
       "      <td>4.50</td>\n",
       "    </tr>\n",
       "    <tr>\n",
       "      <th>4</th>\n",
       "      <td>2004</td>\n",
       "      <td>8.0000</td>\n",
       "      <td>6.00</td>\n",
       "      <td>17.00</td>\n",
       "      <td>13.85</td>\n",
       "    </tr>\n",
       "    <tr>\n",
       "      <th>2</th>\n",
       "      <td>2002</td>\n",
       "      <td>3.8100</td>\n",
       "      <td>4.75</td>\n",
       "      <td>12.66</td>\n",
       "      <td>17.00</td>\n",
       "    </tr>\n",
       "    <tr>\n",
       "      <th>10</th>\n",
       "      <td>2010</td>\n",
       "      <td>4.5000</td>\n",
       "      <td>4.50</td>\n",
       "      <td>11.50</td>\n",
       "      <td>11.00</td>\n",
       "    </tr>\n",
       "    <tr>\n",
       "      <th>21</th>\n",
       "      <td>2021</td>\n",
       "      <td>3.7500</td>\n",
       "      <td>3.32</td>\n",
       "      <td>6.50</td>\n",
       "      <td>3.25</td>\n",
       "    </tr>\n",
       "  </tbody>\n",
       "</table>\n",
       "</div>"
      ],
      "text/plain": [
       "    DataReferencia  IPCA ano anterior  IPCA inicio do ano  Selic ano anterior  \\\n",
       "11            2011             4.5000                5.33               10.88   \n",
       "7             2007             4.5000                4.00               13.50   \n",
       "23            2023             3.3802                 NaN                8.00   \n",
       "13            2013             5.0000                5.49               10.25   \n",
       "25            2025                NaN                 NaN                 NaN   \n",
       "20            2020             4.0000                3.60                8.00   \n",
       "4             2004             8.0000                6.00               17.00   \n",
       "2             2002             3.8100                4.75               12.66   \n",
       "10            2010             4.5000                4.50               11.50   \n",
       "21            2021             3.7500                3.32                6.50   \n",
       "\n",
       "    Selic inicio do ano  \n",
       "11                12.25  \n",
       "7                 11.75  \n",
       "23                  NaN  \n",
       "13                 7.25  \n",
       "25                  NaN  \n",
       "20                 4.50  \n",
       "4                 13.85  \n",
       "2                 17.00  \n",
       "10                11.00  \n",
       "21                 3.25  "
      ]
     },
     "execution_count": 10,
     "metadata": {},
     "output_type": "execute_result"
    }
   ],
   "source": [
    "tabela_expectativas.sample(10)"
   ]
  },
  {
   "cell_type": "code",
   "execution_count": 11,
   "id": "eb63b95e",
   "metadata": {
    "scrolled": true
   },
   "outputs": [
    {
     "name": "stdout",
     "output_type": "stream",
     "text": [
      "<class 'pandas.core.frame.DataFrame'>\n",
      "Int64Index: 26 entries, 0 to 25\n",
      "Data columns (total 5 columns):\n",
      " #   Column               Non-Null Count  Dtype  \n",
      "---  ------               --------------  -----  \n",
      " 0   DataReferencia       26 non-null     int64  \n",
      " 1   IPCA ano anterior    22 non-null     float64\n",
      " 2   IPCA inicio do ano   23 non-null     float64\n",
      " 3   Selic ano anterior   22 non-null     float64\n",
      " 4   Selic inicio do ano  23 non-null     float64\n",
      "dtypes: float64(4), int64(1)\n",
      "memory usage: 1.2 KB\n"
     ]
    }
   ],
   "source": [
    "tabela_expectativas.info()"
   ]
  },
  {
   "cell_type": "markdown",
   "id": "d438361c",
   "metadata": {},
   "source": [
    "### Dados reais"
   ]
  },
  {
   "cell_type": "markdown",
   "id": "657f46f2",
   "metadata": {},
   "source": [
    "Pesquisando os indicadores que serão analisados, cheguei nos códigos 13552 (IPCA 12 meses) e 432 (Meta Selic)."
   ]
  },
  {
   "cell_type": "code",
   "execution_count": 12,
   "id": "846e387a",
   "metadata": {},
   "outputs": [
    {
     "data": {
      "text/html": [
       "<div>\n",
       "<style scoped>\n",
       "    .dataframe tbody tr th:only-of-type {\n",
       "        vertical-align: middle;\n",
       "    }\n",
       "\n",
       "    .dataframe tbody tr th {\n",
       "        vertical-align: top;\n",
       "    }\n",
       "\n",
       "    .dataframe thead th {\n",
       "        text-align: right;\n",
       "    }\n",
       "</style>\n",
       "<table border=\"1\" class=\"dataframe\">\n",
       "  <thead>\n",
       "    <tr style=\"text-align: right;\">\n",
       "      <th></th>\n",
       "      <th>Data</th>\n",
       "      <th>IPCA</th>\n",
       "      <th>MetaSelic</th>\n",
       "      <th>Ano</th>\n",
       "    </tr>\n",
       "  </thead>\n",
       "  <tbody>\n",
       "    <tr>\n",
       "      <th>146</th>\n",
       "      <td>01/03/2012</td>\n",
       "      <td>5.24</td>\n",
       "      <td>10.50</td>\n",
       "      <td>2012</td>\n",
       "    </tr>\n",
       "    <tr>\n",
       "      <th>47</th>\n",
       "      <td>01/12/2003</td>\n",
       "      <td>9.30</td>\n",
       "      <td>17.50</td>\n",
       "      <td>2003</td>\n",
       "    </tr>\n",
       "    <tr>\n",
       "      <th>202</th>\n",
       "      <td>01/11/2016</td>\n",
       "      <td>6.99</td>\n",
       "      <td>14.00</td>\n",
       "      <td>2016</td>\n",
       "    </tr>\n",
       "    <tr>\n",
       "      <th>57</th>\n",
       "      <td>01/10/2004</td>\n",
       "      <td>6.86</td>\n",
       "      <td>16.25</td>\n",
       "      <td>2004</td>\n",
       "    </tr>\n",
       "    <tr>\n",
       "      <th>102</th>\n",
       "      <td>01/07/2008</td>\n",
       "      <td>6.37</td>\n",
       "      <td>12.25</td>\n",
       "      <td>2008</td>\n",
       "    </tr>\n",
       "    <tr>\n",
       "      <th>53</th>\n",
       "      <td>01/06/2004</td>\n",
       "      <td>6.06</td>\n",
       "      <td>16.00</td>\n",
       "      <td>2004</td>\n",
       "    </tr>\n",
       "    <tr>\n",
       "      <th>73</th>\n",
       "      <td>01/02/2006</td>\n",
       "      <td>5.51</td>\n",
       "      <td>17.25</td>\n",
       "      <td>2006</td>\n",
       "    </tr>\n",
       "    <tr>\n",
       "      <th>3</th>\n",
       "      <td>01/04/2000</td>\n",
       "      <td>6.77</td>\n",
       "      <td>18.50</td>\n",
       "      <td>2000</td>\n",
       "    </tr>\n",
       "    <tr>\n",
       "      <th>263</th>\n",
       "      <td>01/12/2021</td>\n",
       "      <td>10.06</td>\n",
       "      <td>7.75</td>\n",
       "      <td>2021</td>\n",
       "    </tr>\n",
       "    <tr>\n",
       "      <th>181</th>\n",
       "      <td>01/02/2015</td>\n",
       "      <td>7.70</td>\n",
       "      <td>12.25</td>\n",
       "      <td>2015</td>\n",
       "    </tr>\n",
       "  </tbody>\n",
       "</table>\n",
       "</div>"
      ],
      "text/plain": [
       "           Data   IPCA  MetaSelic   Ano\n",
       "146  01/03/2012   5.24      10.50  2012\n",
       "47   01/12/2003   9.30      17.50  2003\n",
       "202  01/11/2016   6.99      14.00  2016\n",
       "57   01/10/2004   6.86      16.25  2004\n",
       "102  01/07/2008   6.37      12.25  2008\n",
       "53   01/06/2004   6.06      16.00  2004\n",
       "73   01/02/2006   5.51      17.25  2006\n",
       "3    01/04/2000   6.77      18.50  2000\n",
       "263  01/12/2021  10.06       7.75  2021\n",
       "181  01/02/2015   7.70      12.25  2015"
      ]
     },
     "execution_count": 12,
     "metadata": {},
     "output_type": "execute_result"
    }
   ],
   "source": [
    "# Captura dos dados na API\n",
    "codigo_ipca_12_meses = 13522\n",
    "data_inicial = '01012000'\n",
    "data_final = '31122099'\n",
    "ipca_12_meses_json =    'http://api.bcb.gov.br/dados/serie/' \\\n",
    "                        f'bcdata.sgs.{codigo_ipca_12_meses}/dados?' \\\n",
    "                        f'formato=json&dataInicial={data_inicial}&dataFinal={data_final}'\n",
    "\n",
    "codigo_meta_selic = 432\n",
    "meta_selic_json =   'http://api.bcb.gov.br/dados/serie/' \\\n",
    "                    f'bcdata.sgs.{codigo_meta_selic}/dados?' \\\n",
    "                    f'formato=json&dataInicial={data_inicial}&dataFinal={data_final}'\n",
    "\n",
    "# Inclusão dos dados em DataFrames\n",
    "ipca_12_meses = pd.read_json(ipca_12_meses_json).set_index('data')\n",
    "meta_selic = pd.read_json(meta_selic_json).set_index('data')\n",
    "\n",
    "# Unindo os dados obtidos\n",
    "df_indicadores_reais = pd.concat([ipca_12_meses, meta_selic], axis = 1, join = 'inner').reset_index()\n",
    "df_indicadores_reais.reset_index()\n",
    "df_indicadores_reais.columns = ['Data', 'IPCA', 'MetaSelic']\n",
    "df_indicadores_reais['Ano'] = df_indicadores_reais.Data.apply(lambda x: int(x.rsplit('/',1)[1]))\n",
    "df_indicadores_reais.sample(10)"
   ]
  },
  {
   "cell_type": "code",
   "execution_count": 13,
   "id": "3f88a85f",
   "metadata": {},
   "outputs": [
    {
     "data": {
      "text/plain": [
       "(272, 4)"
      ]
     },
     "execution_count": 13,
     "metadata": {},
     "output_type": "execute_result"
    }
   ],
   "source": [
    "df_indicadores_reais.shape"
   ]
  },
  {
   "cell_type": "code",
   "execution_count": 14,
   "id": "77587ba8",
   "metadata": {},
   "outputs": [
    {
     "data": {
      "text/html": [
       "<div>\n",
       "<style scoped>\n",
       "    .dataframe tbody tr th:only-of-type {\n",
       "        vertical-align: middle;\n",
       "    }\n",
       "\n",
       "    .dataframe tbody tr th {\n",
       "        vertical-align: top;\n",
       "    }\n",
       "\n",
       "    .dataframe thead th {\n",
       "        text-align: right;\n",
       "    }\n",
       "</style>\n",
       "<table border=\"1\" class=\"dataframe\">\n",
       "  <thead>\n",
       "    <tr style=\"text-align: right;\">\n",
       "      <th></th>\n",
       "      <th>Data</th>\n",
       "      <th>IPCA</th>\n",
       "      <th>MetaSelic</th>\n",
       "      <th>Ano</th>\n",
       "    </tr>\n",
       "  </thead>\n",
       "  <tbody>\n",
       "    <tr>\n",
       "      <th>11</th>\n",
       "      <td>01/12/2000</td>\n",
       "      <td>5.97</td>\n",
       "      <td>16.50</td>\n",
       "      <td>2000</td>\n",
       "    </tr>\n",
       "    <tr>\n",
       "      <th>23</th>\n",
       "      <td>01/12/2001</td>\n",
       "      <td>7.67</td>\n",
       "      <td>19.00</td>\n",
       "      <td>2001</td>\n",
       "    </tr>\n",
       "    <tr>\n",
       "      <th>35</th>\n",
       "      <td>01/12/2002</td>\n",
       "      <td>12.53</td>\n",
       "      <td>22.00</td>\n",
       "      <td>2002</td>\n",
       "    </tr>\n",
       "    <tr>\n",
       "      <th>47</th>\n",
       "      <td>01/12/2003</td>\n",
       "      <td>9.30</td>\n",
       "      <td>17.50</td>\n",
       "      <td>2003</td>\n",
       "    </tr>\n",
       "    <tr>\n",
       "      <th>59</th>\n",
       "      <td>01/12/2004</td>\n",
       "      <td>7.60</td>\n",
       "      <td>17.25</td>\n",
       "      <td>2004</td>\n",
       "    </tr>\n",
       "    <tr>\n",
       "      <th>71</th>\n",
       "      <td>01/12/2005</td>\n",
       "      <td>5.69</td>\n",
       "      <td>18.50</td>\n",
       "      <td>2005</td>\n",
       "    </tr>\n",
       "    <tr>\n",
       "      <th>83</th>\n",
       "      <td>01/12/2006</td>\n",
       "      <td>3.14</td>\n",
       "      <td>13.25</td>\n",
       "      <td>2006</td>\n",
       "    </tr>\n",
       "    <tr>\n",
       "      <th>95</th>\n",
       "      <td>01/12/2007</td>\n",
       "      <td>4.46</td>\n",
       "      <td>11.25</td>\n",
       "      <td>2007</td>\n",
       "    </tr>\n",
       "    <tr>\n",
       "      <th>107</th>\n",
       "      <td>01/12/2008</td>\n",
       "      <td>5.90</td>\n",
       "      <td>13.75</td>\n",
       "      <td>2008</td>\n",
       "    </tr>\n",
       "    <tr>\n",
       "      <th>119</th>\n",
       "      <td>01/12/2009</td>\n",
       "      <td>4.31</td>\n",
       "      <td>8.75</td>\n",
       "      <td>2009</td>\n",
       "    </tr>\n",
       "    <tr>\n",
       "      <th>131</th>\n",
       "      <td>01/12/2010</td>\n",
       "      <td>5.91</td>\n",
       "      <td>10.75</td>\n",
       "      <td>2010</td>\n",
       "    </tr>\n",
       "    <tr>\n",
       "      <th>143</th>\n",
       "      <td>01/12/2011</td>\n",
       "      <td>6.50</td>\n",
       "      <td>11.00</td>\n",
       "      <td>2011</td>\n",
       "    </tr>\n",
       "    <tr>\n",
       "      <th>155</th>\n",
       "      <td>01/12/2012</td>\n",
       "      <td>5.84</td>\n",
       "      <td>7.25</td>\n",
       "      <td>2012</td>\n",
       "    </tr>\n",
       "    <tr>\n",
       "      <th>167</th>\n",
       "      <td>01/12/2013</td>\n",
       "      <td>5.91</td>\n",
       "      <td>10.00</td>\n",
       "      <td>2013</td>\n",
       "    </tr>\n",
       "    <tr>\n",
       "      <th>179</th>\n",
       "      <td>01/12/2014</td>\n",
       "      <td>6.41</td>\n",
       "      <td>11.25</td>\n",
       "      <td>2014</td>\n",
       "    </tr>\n",
       "    <tr>\n",
       "      <th>191</th>\n",
       "      <td>01/12/2015</td>\n",
       "      <td>10.67</td>\n",
       "      <td>14.25</td>\n",
       "      <td>2015</td>\n",
       "    </tr>\n",
       "    <tr>\n",
       "      <th>203</th>\n",
       "      <td>01/12/2016</td>\n",
       "      <td>6.29</td>\n",
       "      <td>13.75</td>\n",
       "      <td>2016</td>\n",
       "    </tr>\n",
       "    <tr>\n",
       "      <th>215</th>\n",
       "      <td>01/12/2017</td>\n",
       "      <td>2.95</td>\n",
       "      <td>7.50</td>\n",
       "      <td>2017</td>\n",
       "    </tr>\n",
       "    <tr>\n",
       "      <th>227</th>\n",
       "      <td>01/12/2018</td>\n",
       "      <td>3.75</td>\n",
       "      <td>6.50</td>\n",
       "      <td>2018</td>\n",
       "    </tr>\n",
       "    <tr>\n",
       "      <th>239</th>\n",
       "      <td>01/12/2019</td>\n",
       "      <td>4.31</td>\n",
       "      <td>5.00</td>\n",
       "      <td>2019</td>\n",
       "    </tr>\n",
       "    <tr>\n",
       "      <th>251</th>\n",
       "      <td>01/12/2020</td>\n",
       "      <td>4.52</td>\n",
       "      <td>2.00</td>\n",
       "      <td>2020</td>\n",
       "    </tr>\n",
       "    <tr>\n",
       "      <th>263</th>\n",
       "      <td>01/12/2021</td>\n",
       "      <td>10.06</td>\n",
       "      <td>7.75</td>\n",
       "      <td>2021</td>\n",
       "    </tr>\n",
       "  </tbody>\n",
       "</table>\n",
       "</div>"
      ],
      "text/plain": [
       "           Data   IPCA  MetaSelic   Ano\n",
       "11   01/12/2000   5.97      16.50  2000\n",
       "23   01/12/2001   7.67      19.00  2001\n",
       "35   01/12/2002  12.53      22.00  2002\n",
       "47   01/12/2003   9.30      17.50  2003\n",
       "59   01/12/2004   7.60      17.25  2004\n",
       "71   01/12/2005   5.69      18.50  2005\n",
       "83   01/12/2006   3.14      13.25  2006\n",
       "95   01/12/2007   4.46      11.25  2007\n",
       "107  01/12/2008   5.90      13.75  2008\n",
       "119  01/12/2009   4.31       8.75  2009\n",
       "131  01/12/2010   5.91      10.75  2010\n",
       "143  01/12/2011   6.50      11.00  2011\n",
       "155  01/12/2012   5.84       7.25  2012\n",
       "167  01/12/2013   5.91      10.00  2013\n",
       "179  01/12/2014   6.41      11.25  2014\n",
       "191  01/12/2015  10.67      14.25  2015\n",
       "203  01/12/2016   6.29      13.75  2016\n",
       "215  01/12/2017   2.95       7.50  2017\n",
       "227  01/12/2018   3.75       6.50  2018\n",
       "239  01/12/2019   4.31       5.00  2019\n",
       "251  01/12/2020   4.52       2.00  2020\n",
       "263  01/12/2021  10.06       7.75  2021"
      ]
     },
     "execution_count": 14,
     "metadata": {},
     "output_type": "execute_result"
    }
   ],
   "source": [
    "df_indicadores_reais_fechamento_ano = df_indicadores_reais[df_indicadores_reais.Data.str.contains('/12/')]\n",
    "df_indicadores_reais_fechamento_ano"
   ]
  },
  {
   "cell_type": "code",
   "execution_count": 15,
   "id": "8c74e9ca",
   "metadata": {},
   "outputs": [
    {
     "name": "stdout",
     "output_type": "stream",
     "text": [
      "<class 'pandas.core.frame.DataFrame'>\n",
      "Int64Index: 22 entries, 11 to 263\n",
      "Data columns (total 4 columns):\n",
      " #   Column     Non-Null Count  Dtype  \n",
      "---  ------     --------------  -----  \n",
      " 0   Data       22 non-null     object \n",
      " 1   IPCA       22 non-null     float64\n",
      " 2   MetaSelic  22 non-null     float64\n",
      " 3   Ano        22 non-null     int64  \n",
      "dtypes: float64(2), int64(1), object(1)\n",
      "memory usage: 880.0+ bytes\n"
     ]
    }
   ],
   "source": [
    "df_indicadores_reais_fechamento_ano.info()"
   ]
  },
  {
   "cell_type": "code",
   "execution_count": null,
   "id": "ed0ca7d1",
   "metadata": {},
   "outputs": [],
   "source": []
  }
 ],
 "metadata": {
  "kernelspec": {
   "display_name": "Python 3",
   "language": "python",
   "name": "python3"
  },
  "language_info": {
   "codemirror_mode": {
    "name": "ipython",
    "version": 3
   },
   "file_extension": ".py",
   "mimetype": "text/x-python",
   "name": "python",
   "nbconvert_exporter": "python",
   "pygments_lexer": "ipython3",
   "version": "3.6.6"
  }
 },
 "nbformat": 4,
 "nbformat_minor": 5
}
